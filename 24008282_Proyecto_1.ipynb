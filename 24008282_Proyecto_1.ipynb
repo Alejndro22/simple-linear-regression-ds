{
 "cells": [
  {
   "cell_type": "code",
   "execution_count": 1,
   "id": "c8995ffe-46b7-4aa1-9a5d-acaa3f404b19",
   "metadata": {
    "tags": []
   },
   "outputs": [],
   "source": [
    "import numpy as np\n",
    "import pandas as pd"
   ]
  },
  {
   "cell_type": "markdown",
   "id": "c362ea47-bf01-4d86-b89d-83650c9468a7",
   "metadata": {},
   "source": [
    "## Exploración Inicial de datos"
   ]
  },
  {
   "cell_type": "code",
   "execution_count": 2,
   "id": "fd060c70-8349-484b-b476-0ae8d44a359b",
   "metadata": {
    "tags": []
   },
   "outputs": [
    {
     "name": "stdout",
     "output_type": "stream",
     "text": [
      "[[2.08500e+05 7.00000e+00 8.56000e+02 8.00000e+00 2.00300e+03 6.50000e+01]\n",
      " [1.81500e+05 6.00000e+00 1.26200e+03 6.00000e+00 1.97600e+03 8.00000e+01]\n",
      " [2.23500e+05 7.00000e+00 9.20000e+02 6.00000e+00 2.00100e+03 6.80000e+01]\n",
      " ...\n",
      " [2.66500e+05 7.00000e+00 1.18800e+03 9.00000e+00 1.94100e+03 6.60000e+01]\n",
      " [1.42125e+05 5.00000e+00 1.07800e+03 5.00000e+00 1.95000e+03 6.80000e+01]\n",
      " [1.47500e+05 5.00000e+00 1.25600e+03 6.00000e+00 1.96500e+03 7.50000e+01]]\n"
     ]
    }
   ],
   "source": [
    "data = np.load('proyecto_training_data.npy')\n",
    "print(data)"
   ]
  },
  {
   "cell_type": "code",
   "execution_count": 3,
   "id": "cd46e080-8d4e-402a-bb16-f9e9678b3f51",
   "metadata": {
    "tags": []
   },
   "outputs": [
    {
     "data": {
      "text/html": [
       "<div>\n",
       "<style scoped>\n",
       "    .dataframe tbody tr th:only-of-type {\n",
       "        vertical-align: middle;\n",
       "    }\n",
       "\n",
       "    .dataframe tbody tr th {\n",
       "        vertical-align: top;\n",
       "    }\n",
       "\n",
       "    .dataframe thead th {\n",
       "        text-align: right;\n",
       "    }\n",
       "</style>\n",
       "<table border=\"1\" class=\"dataframe\">\n",
       "  <thead>\n",
       "    <tr style=\"text-align: right;\">\n",
       "      <th></th>\n",
       "      <th>SalePrice</th>\n",
       "      <th>OverallQual</th>\n",
       "      <th>1stFlrSF</th>\n",
       "      <th>TotRmsAbvGrd</th>\n",
       "      <th>YearBuilt</th>\n",
       "      <th>LotFrontage</th>\n",
       "    </tr>\n",
       "  </thead>\n",
       "  <tbody>\n",
       "    <tr>\n",
       "      <th>0</th>\n",
       "      <td>208500.0</td>\n",
       "      <td>7.0</td>\n",
       "      <td>856.0</td>\n",
       "      <td>8.0</td>\n",
       "      <td>2003.0</td>\n",
       "      <td>65.0</td>\n",
       "    </tr>\n",
       "    <tr>\n",
       "      <th>1</th>\n",
       "      <td>181500.0</td>\n",
       "      <td>6.0</td>\n",
       "      <td>1262.0</td>\n",
       "      <td>6.0</td>\n",
       "      <td>1976.0</td>\n",
       "      <td>80.0</td>\n",
       "    </tr>\n",
       "    <tr>\n",
       "      <th>2</th>\n",
       "      <td>223500.0</td>\n",
       "      <td>7.0</td>\n",
       "      <td>920.0</td>\n",
       "      <td>6.0</td>\n",
       "      <td>2001.0</td>\n",
       "      <td>68.0</td>\n",
       "    </tr>\n",
       "    <tr>\n",
       "      <th>3</th>\n",
       "      <td>140000.0</td>\n",
       "      <td>7.0</td>\n",
       "      <td>961.0</td>\n",
       "      <td>7.0</td>\n",
       "      <td>1915.0</td>\n",
       "      <td>60.0</td>\n",
       "    </tr>\n",
       "    <tr>\n",
       "      <th>4</th>\n",
       "      <td>250000.0</td>\n",
       "      <td>8.0</td>\n",
       "      <td>1145.0</td>\n",
       "      <td>9.0</td>\n",
       "      <td>2000.0</td>\n",
       "      <td>84.0</td>\n",
       "    </tr>\n",
       "  </tbody>\n",
       "</table>\n",
       "</div>"
      ],
      "text/plain": [
       "   SalePrice  OverallQual  1stFlrSF  TotRmsAbvGrd  YearBuilt  LotFrontage\n",
       "0   208500.0          7.0     856.0           8.0     2003.0         65.0\n",
       "1   181500.0          6.0    1262.0           6.0     1976.0         80.0\n",
       "2   223500.0          7.0     920.0           6.0     2001.0         68.0\n",
       "3   140000.0          7.0     961.0           7.0     1915.0         60.0\n",
       "4   250000.0          8.0    1145.0           9.0     2000.0         84.0"
      ]
     },
     "execution_count": 3,
     "metadata": {},
     "output_type": "execute_result"
    }
   ],
   "source": [
    "dataset = pd.DataFrame(data, columns=['SalePrice', 'OverallQual', '1stFlrSF', 'TotRmsAbvGrd', 'YearBuilt', 'LotFrontage'])\n",
    "dataset.head()"
   ]
  },
  {
   "cell_type": "code",
   "execution_count": 4,
   "id": "5d611475-32e2-4131-8d18-2399734b3341",
   "metadata": {
    "tags": []
   },
   "outputs": [
    {
     "data": {
      "text/plain": [
       "SalePrice       float64\n",
       "OverallQual     float64\n",
       "1stFlrSF        float64\n",
       "TotRmsAbvGrd    float64\n",
       "YearBuilt       float64\n",
       "LotFrontage     float64\n",
       "dtype: object"
      ]
     },
     "execution_count": 4,
     "metadata": {},
     "output_type": "execute_result"
    }
   ],
   "source": [
    "# Obtener tipos del dataset\n",
    "dataset.dtypes"
   ]
  },
  {
   "cell_type": "code",
   "execution_count": 5,
   "id": "59e0c15c-2274-450b-93cb-f04bdcef06f2",
   "metadata": {
    "tags": []
   },
   "outputs": [
    {
     "data": {
      "text/html": [
       "<div>\n",
       "<style scoped>\n",
       "    .dataframe tbody tr th:only-of-type {\n",
       "        vertical-align: middle;\n",
       "    }\n",
       "\n",
       "    .dataframe tbody tr th {\n",
       "        vertical-align: top;\n",
       "    }\n",
       "\n",
       "    .dataframe thead th {\n",
       "        text-align: right;\n",
       "    }\n",
       "</style>\n",
       "<table border=\"1\" class=\"dataframe\">\n",
       "  <thead>\n",
       "    <tr style=\"text-align: right;\">\n",
       "      <th></th>\n",
       "      <th>SalePrice</th>\n",
       "      <th>OverallQual</th>\n",
       "      <th>1stFlrSF</th>\n",
       "      <th>TotRmsAbvGrd</th>\n",
       "      <th>YearBuilt</th>\n",
       "      <th>LotFrontage</th>\n",
       "    </tr>\n",
       "  </thead>\n",
       "  <tbody>\n",
       "    <tr>\n",
       "      <th>count</th>\n",
       "      <td>1460.000000</td>\n",
       "      <td>1460.000000</td>\n",
       "      <td>1460.000000</td>\n",
       "      <td>1460.000000</td>\n",
       "      <td>1460.000000</td>\n",
       "      <td>1201.000000</td>\n",
       "    </tr>\n",
       "    <tr>\n",
       "      <th>mean</th>\n",
       "      <td>180921.195890</td>\n",
       "      <td>6.099315</td>\n",
       "      <td>1162.626712</td>\n",
       "      <td>6.517808</td>\n",
       "      <td>1971.267808</td>\n",
       "      <td>70.049958</td>\n",
       "    </tr>\n",
       "    <tr>\n",
       "      <th>std</th>\n",
       "      <td>79442.502883</td>\n",
       "      <td>1.382997</td>\n",
       "      <td>386.587738</td>\n",
       "      <td>1.625393</td>\n",
       "      <td>30.202904</td>\n",
       "      <td>24.284752</td>\n",
       "    </tr>\n",
       "    <tr>\n",
       "      <th>min</th>\n",
       "      <td>34900.000000</td>\n",
       "      <td>1.000000</td>\n",
       "      <td>334.000000</td>\n",
       "      <td>2.000000</td>\n",
       "      <td>1872.000000</td>\n",
       "      <td>21.000000</td>\n",
       "    </tr>\n",
       "    <tr>\n",
       "      <th>25%</th>\n",
       "      <td>129975.000000</td>\n",
       "      <td>5.000000</td>\n",
       "      <td>882.000000</td>\n",
       "      <td>5.000000</td>\n",
       "      <td>1954.000000</td>\n",
       "      <td>59.000000</td>\n",
       "    </tr>\n",
       "    <tr>\n",
       "      <th>50%</th>\n",
       "      <td>163000.000000</td>\n",
       "      <td>6.000000</td>\n",
       "      <td>1087.000000</td>\n",
       "      <td>6.000000</td>\n",
       "      <td>1973.000000</td>\n",
       "      <td>69.000000</td>\n",
       "    </tr>\n",
       "    <tr>\n",
       "      <th>75%</th>\n",
       "      <td>214000.000000</td>\n",
       "      <td>7.000000</td>\n",
       "      <td>1391.250000</td>\n",
       "      <td>7.000000</td>\n",
       "      <td>2000.000000</td>\n",
       "      <td>80.000000</td>\n",
       "    </tr>\n",
       "    <tr>\n",
       "      <th>max</th>\n",
       "      <td>755000.000000</td>\n",
       "      <td>10.000000</td>\n",
       "      <td>4692.000000</td>\n",
       "      <td>14.000000</td>\n",
       "      <td>2010.000000</td>\n",
       "      <td>313.000000</td>\n",
       "    </tr>\n",
       "  </tbody>\n",
       "</table>\n",
       "</div>"
      ],
      "text/plain": [
       "           SalePrice  OverallQual     1stFlrSF  TotRmsAbvGrd    YearBuilt  \\\n",
       "count    1460.000000  1460.000000  1460.000000   1460.000000  1460.000000   \n",
       "mean   180921.195890     6.099315  1162.626712      6.517808  1971.267808   \n",
       "std     79442.502883     1.382997   386.587738      1.625393    30.202904   \n",
       "min     34900.000000     1.000000   334.000000      2.000000  1872.000000   \n",
       "25%    129975.000000     5.000000   882.000000      5.000000  1954.000000   \n",
       "50%    163000.000000     6.000000  1087.000000      6.000000  1973.000000   \n",
       "75%    214000.000000     7.000000  1391.250000      7.000000  2000.000000   \n",
       "max    755000.000000    10.000000  4692.000000     14.000000  2010.000000   \n",
       "\n",
       "       LotFrontage  \n",
       "count  1201.000000  \n",
       "mean     70.049958  \n",
       "std      24.284752  \n",
       "min      21.000000  \n",
       "25%      59.000000  \n",
       "50%      69.000000  \n",
       "75%      80.000000  \n",
       "max     313.000000  "
      ]
     },
     "execution_count": 5,
     "metadata": {},
     "output_type": "execute_result"
    }
   ],
   "source": [
    "# Analisis rapido del dataset\n",
    "dataset.describe() "
   ]
  },
  {
   "cell_type": "markdown",
   "id": "193e7e68-c16f-437f-b8f2-8ab2dd7b44ba",
   "metadata": {},
   "source": [
    "## Resolver casos de datos null imputando la media"
   ]
  },
  {
   "cell_type": "code",
   "execution_count": 6,
   "id": "489d452c-c6ff-4c06-9721-9d3faa9adf60",
   "metadata": {
    "tags": []
   },
   "outputs": [
    {
     "name": "stdout",
     "output_type": "stream",
     "text": [
      "SalePrice: 0.0\n",
      "OverallQual: 0.0\n",
      "1stFlrSF: 0.0\n",
      "TotRmsAbvGrd: 0.0\n",
      "YearBuilt: 0.0\n",
      "LotFrontage: 0.1773972602739726\n"
     ]
    }
   ],
   "source": [
    "# Ver el porcentaje de datos nulos por cada columna\n",
    "columnas = dataset.columns\n",
    "for col in columnas:\n",
    "    porcentaje_na = dataset[col].isnull().mean()\n",
    "    print(f\"{col}: {porcentaje_na}\")"
   ]
  },
  {
   "cell_type": "code",
   "execution_count": 7,
   "id": "f1ae2316-0525-4ed7-849a-1f34c65817c3",
   "metadata": {
    "tags": []
   },
   "outputs": [],
   "source": [
    "# Reemplazar los datos nulos \n",
    "# Para corregir esto, podemos imputar la media (sustituir los valores NaN por la media)\n",
    "promedio = dataset['LotFrontage'].mean()\n",
    "dataset['LotFrontage'].fillna(promedio, inplace=True)"
   ]
  },
  {
   "cell_type": "code",
   "execution_count": 8,
   "id": "17aab8a2-729a-4015-9ad9-bbcc18d6340d",
   "metadata": {
    "tags": []
   },
   "outputs": [
    {
     "name": "stdout",
     "output_type": "stream",
     "text": [
      "SalePrice: 0.0\n",
      "OverallQual: 0.0\n",
      "1stFlrSF: 0.0\n",
      "TotRmsAbvGrd: 0.0\n",
      "YearBuilt: 0.0\n",
      "LotFrontage: 0.0\n"
     ]
    }
   ],
   "source": [
    "# Verificamos de nuevo el porcentaje de datos nulos\n",
    "columnas = dataset.columns\n",
    "for col in columnas:\n",
    "    porcentaje_na = dataset[col].isnull().mean()\n",
    "    print(f\"{col}: {porcentaje_na}\")"
   ]
  },
  {
   "cell_type": "markdown",
   "id": "e0045fe5-ca91-46dc-9c37-4166e845f6cf",
   "metadata": {},
   "source": [
    "## Usando sclicing con NumPy \n",
    "\n",
    "Entrenamiento (80%) \n",
    "\n",
    "Validación y pruebas (20%)."
   ]
  },
  {
   "cell_type": "code",
   "execution_count": 9,
   "id": "919d2434-6680-4bb2-b1d0-f6ade4cb152c",
   "metadata": {
    "tags": []
   },
   "outputs": [
    {
     "name": "stdout",
     "output_type": "stream",
     "text": [
      "Total de registros:\n",
      " 1460\n"
     ]
    }
   ],
   "source": [
    "print(\"Total de registros:\\n\", len(data))"
   ]
  },
  {
   "cell_type": "code",
   "execution_count": 10,
   "id": "c65ec39e-53ed-45a0-822f-6dabc2c39eac",
   "metadata": {
    "tags": []
   },
   "outputs": [
    {
     "name": "stdout",
     "output_type": "stream",
     "text": [
      "1168\n"
     ]
    }
   ],
   "source": [
    "# Calcular la cantidad de valores representativa del 80%\n",
    "num_80_percent_from_total = int(len(data) * 0.8) \n",
    "print(num_80_percent_from_total)"
   ]
  },
  {
   "cell_type": "code",
   "execution_count": 11,
   "id": "c50fccc6-de14-4efc-92f3-4ae767085076",
   "metadata": {
    "tags": []
   },
   "outputs": [
    {
     "name": "stdout",
     "output_type": "stream",
     "text": [
      "Total equivalente al 80% de los datos:\n",
      " 1168\n",
      "Total equivalente al 20% de los datos:\n",
      " 292\n"
     ]
    }
   ],
   "source": [
    "data_80 = data[:num_80_percent_from_total, :]\n",
    "data_20 = data[num_80_percent_from_total:, :]\n",
    "\n",
    "print(\"Total equivalente al 80% de los datos:\\n\", len(data_80))\n",
    "print(\"Total equivalente al 20% de los datos:\\n\", len(data_20))"
   ]
  },
  {
   "cell_type": "markdown",
   "id": "ac37ef0a-a8f7-482a-8c12-06f63444b1ab",
   "metadata": {},
   "source": [
    "## Análisis exploratorio de datos e histograma con Seaborn por cada variable"
   ]
  },
  {
   "cell_type": "code",
   "execution_count": 12,
   "id": "7323b1f6-d828-410d-90f0-6047d1d355b3",
   "metadata": {
    "tags": []
   },
   "outputs": [],
   "source": [
    "import seaborn as sns\n",
    "import matplotlib.pyplot as plt"
   ]
  },
  {
   "cell_type": "code",
   "execution_count": 13,
   "id": "4547e51d-097c-4aef-bbae-ab42a3503f64",
   "metadata": {
    "tags": []
   },
   "outputs": [
    {
     "data": {
      "text/html": [
       "<div>\n",
       "<style scoped>\n",
       "    .dataframe tbody tr th:only-of-type {\n",
       "        vertical-align: middle;\n",
       "    }\n",
       "\n",
       "    .dataframe tbody tr th {\n",
       "        vertical-align: top;\n",
       "    }\n",
       "\n",
       "    .dataframe thead th {\n",
       "        text-align: right;\n",
       "    }\n",
       "</style>\n",
       "<table border=\"1\" class=\"dataframe\">\n",
       "  <thead>\n",
       "    <tr style=\"text-align: right;\">\n",
       "      <th></th>\n",
       "      <th>SalePrice</th>\n",
       "      <th>OverallQual</th>\n",
       "      <th>1stFlrSF</th>\n",
       "      <th>TotRmsAbvGrd</th>\n",
       "      <th>YearBuilt</th>\n",
       "      <th>LotFrontage</th>\n",
       "    </tr>\n",
       "  </thead>\n",
       "  <tbody>\n",
       "    <tr>\n",
       "      <th>0</th>\n",
       "      <td>208500.0</td>\n",
       "      <td>7.0</td>\n",
       "      <td>856.0</td>\n",
       "      <td>8.0</td>\n",
       "      <td>2003.0</td>\n",
       "      <td>65.0</td>\n",
       "    </tr>\n",
       "    <tr>\n",
       "      <th>1</th>\n",
       "      <td>181500.0</td>\n",
       "      <td>6.0</td>\n",
       "      <td>1262.0</td>\n",
       "      <td>6.0</td>\n",
       "      <td>1976.0</td>\n",
       "      <td>80.0</td>\n",
       "    </tr>\n",
       "    <tr>\n",
       "      <th>2</th>\n",
       "      <td>223500.0</td>\n",
       "      <td>7.0</td>\n",
       "      <td>920.0</td>\n",
       "      <td>6.0</td>\n",
       "      <td>2001.0</td>\n",
       "      <td>68.0</td>\n",
       "    </tr>\n",
       "    <tr>\n",
       "      <th>3</th>\n",
       "      <td>140000.0</td>\n",
       "      <td>7.0</td>\n",
       "      <td>961.0</td>\n",
       "      <td>7.0</td>\n",
       "      <td>1915.0</td>\n",
       "      <td>60.0</td>\n",
       "    </tr>\n",
       "    <tr>\n",
       "      <th>4</th>\n",
       "      <td>250000.0</td>\n",
       "      <td>8.0</td>\n",
       "      <td>1145.0</td>\n",
       "      <td>9.0</td>\n",
       "      <td>2000.0</td>\n",
       "      <td>84.0</td>\n",
       "    </tr>\n",
       "  </tbody>\n",
       "</table>\n",
       "</div>"
      ],
      "text/plain": [
       "   SalePrice  OverallQual  1stFlrSF  TotRmsAbvGrd  YearBuilt  LotFrontage\n",
       "0   208500.0          7.0     856.0           8.0     2003.0         65.0\n",
       "1   181500.0          6.0    1262.0           6.0     1976.0         80.0\n",
       "2   223500.0          7.0     920.0           6.0     2001.0         68.0\n",
       "3   140000.0          7.0     961.0           7.0     1915.0         60.0\n",
       "4   250000.0          8.0    1145.0           9.0     2000.0         84.0"
      ]
     },
     "execution_count": 13,
     "metadata": {},
     "output_type": "execute_result"
    }
   ],
   "source": [
    "# Comienzo por transformar mis datos para entrenamiento en un DataFrame\n",
    "dataset_training = pd.DataFrame(data_80, columns=['SalePrice', 'OverallQual', '1stFlrSF', 'TotRmsAbvGrd', 'YearBuilt', 'LotFrontage'])\n",
    "dataset_training.head()"
   ]
  },
  {
   "cell_type": "code",
   "execution_count": 14,
   "id": "2f1f181b-2995-4d3c-a05d-2cb56e834d70",
   "metadata": {
    "tags": []
   },
   "outputs": [
    {
     "name": "stdout",
     "output_type": "stream",
     "text": [
      "-------------------------------\n",
      "SalePrice\n",
      "-------------------------------\n",
      "\n",
      "Media: 180590.27739726027\n",
      "Valor mínimo: 34900.0\n",
      "Valor máximo: 755000.0\n",
      "Rango: 720100.0\n",
      "Desviacion Estándar: 78815.69790179149\n",
      "\n"
     ]
    },
    {
     "data": {
      "image/png": "[encoded data removed]",
      "text/plain": [
       "<Figure size 640x480 with 1 Axes>"
      ]
     },
     "metadata": {},
     "output_type": "display_data"
    },
    {
     "name": "stdout",
     "output_type": "stream",
     "text": [
      "\n",
      "\n",
      "-------------------------------\n",
      "OverallQual\n",
      "-------------------------------\n",
      "\n",
      "Media: 6.101027397260274\n",
      "Valor mínimo: 1.0\n",
      "Valor máximo: 10.0\n",
      "Rango: 9.0\n",
      "Desviacion Estándar: 1.3780252276191631\n",
      "\n"
     ]
    },
    {
     "data": {
      "image/png": "[encoded data removed]",
      "text/plain": [
       "<Figure size 640x480 with 1 Axes>"
      ]
     },
     "metadata": {},
     "output_type": "display_data"
    },
    {
     "name": "stdout",
     "output_type": "stream",
     "text": [
      "\n",
      "\n",
      "-------------------------------\n",
      "1stFlrSF\n",
      "-------------------------------\n",
      "\n",
      "Media: 1156.3236301369864\n",
      "Valor mínimo: 334.0\n",
      "Valor máximo: 3228.0\n",
      "Rango: 2894.0\n",
      "Desviacion Estándar: 373.7803744886528\n",
      "\n"
     ]
    },
    {
     "data": {
      "image/png": "[encoded data removed]",
      "text/plain": [
       "<Figure size 640x480 with 1 Axes>"
      ]
     },
     "metadata": {},
     "output_type": "display_data"
    },
    {
     "name": "stdout",
     "output_type": "stream",
     "text": [
      "\n",
      "\n",
      "-------------------------------\n",
      "TotRmsAbvGrd\n",
      "-------------------------------\n",
      "\n",
      "Media: 6.4854452054794525\n",
      "Valor mínimo: 2.0\n",
      "Valor máximo: 14.0\n",
      "Rango: 12.0\n",
      "Desviacion Estándar: 1.6091407087243883\n",
      "\n"
     ]
    },
    {
     "data": {
      "image/png": "[encoded data removed]",
      "text/plain": [
       "<Figure size 640x480 with 1 Axes>"
      ]
     },
     "metadata": {},
     "output_type": "display_data"
    },
    {
     "name": "stdout",
     "output_type": "stream",
     "text": [
      "\n",
      "\n",
      "-------------------------------\n",
      "YearBuilt\n",
      "-------------------------------\n",
      "\n",
      "Media: 1971.451198630137\n",
      "Valor mínimo: 1875.0\n",
      "Valor máximo: 2010.0\n",
      "Rango: 135.0\n",
      "Desviacion Estándar: 29.95170660645528\n",
      "\n"
     ]
    },
    {
     "data": {
      "image/png": "[encoded data removed]",
      "text/plain": [
       "<Figure size 640x480 with 1 Axes>"
      ]
     },
     "metadata": {},
     "output_type": "display_data"
    },
    {
     "name": "stdout",
     "output_type": "stream",
     "text": [
      "\n",
      "\n",
      "-------------------------------\n",
      "LotFrontage\n",
      "-------------------------------\n",
      "\n",
      "Media: 69.96514676696361\n",
      "Valor mínimo: 21.0\n",
      "Valor máximo: 313.0\n",
      "Rango: 292.0\n",
      "Desviacion Estándar: 21.305467862840683\n",
      "\n"
     ]
    },
    {
     "data": {
      "image/png": "[encoded data removed]",
      "text/plain": [
       "<Figure size 640x480 with 1 Axes>"
      ]
     },
     "metadata": {},
     "output_type": "display_data"
    },
    {
     "name": "stdout",
     "output_type": "stream",
     "text": [
      "\n",
      "\n"
     ]
    }
   ],
   "source": [
    "columnas = dataset_training.columns\n",
    "for col in columnas:\n",
    "    stats = dataset_training[col].describe()\n",
    "    print('-------------------------------')\n",
    "    print(col)\n",
    "    print('-------------------------------\\n')\n",
    "    print('Media:', stats['mean'])\n",
    "    print('Valor mínimo:', stats['min'])\n",
    "    print('Valor máximo:', stats['max'])\n",
    "    print('Rango:', stats['max'] - stats['min'])\n",
    "    print('Desviacion Estándar:', stats['std'])\n",
    "    print()\n",
    "    # Uso el grafico de histograma de Seaborn, donde el primer parametro es la fuente de datos, y en x que los tome por columna\n",
    "    sns.histplot(dataset, x=col)\n",
    "    plt.show()\n",
    "    print('\\n')"
   ]
  },
  {
   "cell_type": "code",
   "execution_count": 15,
   "id": "c5bef0d3-e6da-43d9-bfce-0955c7da369d",
   "metadata": {
    "tags": []
   },
   "outputs": [
    {
     "data": {
      "text/html": [
       "<div>\n",
       "<style scoped>\n",
       "    .dataframe tbody tr th:only-of-type {\n",
       "        vertical-align: middle;\n",
       "    }\n",
       "\n",
       "    .dataframe tbody tr th {\n",
       "        vertical-align: top;\n",
       "    }\n",
       "\n",
       "    .dataframe thead th {\n",
       "        text-align: right;\n",
       "    }\n",
       "</style>\n",
       "<table border=\"1\" class=\"dataframe\">\n",
       "  <thead>\n",
       "    <tr style=\"text-align: right;\">\n",
       "      <th></th>\n",
       "      <th>OverallQual</th>\n",
       "      <th>1stFlrSF</th>\n",
       "      <th>TotRmsAbvGrd</th>\n",
       "      <th>YearBuilt</th>\n",
       "      <th>LotFrontage</th>\n",
       "    </tr>\n",
       "  </thead>\n",
       "  <tbody>\n",
       "    <tr>\n",
       "      <th>0</th>\n",
       "      <td>7.0</td>\n",
       "      <td>856.0</td>\n",
       "      <td>8.0</td>\n",
       "      <td>2003.0</td>\n",
       "      <td>65.0</td>\n",
       "    </tr>\n",
       "    <tr>\n",
       "      <th>1</th>\n",
       "      <td>6.0</td>\n",
       "      <td>1262.0</td>\n",
       "      <td>6.0</td>\n",
       "      <td>1976.0</td>\n",
       "      <td>80.0</td>\n",
       "    </tr>\n",
       "    <tr>\n",
       "      <th>2</th>\n",
       "      <td>7.0</td>\n",
       "      <td>920.0</td>\n",
       "      <td>6.0</td>\n",
       "      <td>2001.0</td>\n",
       "      <td>68.0</td>\n",
       "    </tr>\n",
       "    <tr>\n",
       "      <th>3</th>\n",
       "      <td>7.0</td>\n",
       "      <td>961.0</td>\n",
       "      <td>7.0</td>\n",
       "      <td>1915.0</td>\n",
       "      <td>60.0</td>\n",
       "    </tr>\n",
       "    <tr>\n",
       "      <th>4</th>\n",
       "      <td>8.0</td>\n",
       "      <td>1145.0</td>\n",
       "      <td>9.0</td>\n",
       "      <td>2000.0</td>\n",
       "      <td>84.0</td>\n",
       "    </tr>\n",
       "  </tbody>\n",
       "</table>\n",
       "</div>"
      ],
      "text/plain": [
       "   OverallQual  1stFlrSF  TotRmsAbvGrd  YearBuilt  LotFrontage\n",
       "0          7.0     856.0           8.0     2003.0         65.0\n",
       "1          6.0    1262.0           6.0     1976.0         80.0\n",
       "2          7.0     920.0           6.0     2001.0         68.0\n",
       "3          7.0     961.0           7.0     1915.0         60.0\n",
       "4          8.0    1145.0           9.0     2000.0         84.0"
      ]
     },
     "execution_count": 15,
     "metadata": {},
     "output_type": "execute_result"
    }
   ],
   "source": [
    "# Se que la dependiente (y) es SalePrice, entonces para analizar la correlacion con y creo un nuevo DF con solo las demás variables independientes\n",
    "ds_independent_training = dataset_training.drop('SalePrice', axis=1)\n",
    "ds_independent_training.head()"
   ]
  },
  {
   "cell_type": "markdown",
   "id": "1ff117a9-4b38-4a5c-b967-3df12c4fb45b",
   "metadata": {},
   "source": [
    "## Calculos Iniciales\n"
   ]
  },
  {
   "cell_type": "code",
   "execution_count": 16,
   "id": "99f2ab3e-6669-4ea6-b640-f3aee93a1599",
   "metadata": {
    "tags": []
   },
   "outputs": [
    {
     "name": "stdout",
     "output_type": "stream",
     "text": [
      "[[2.0850e+05 7.0000e+00 8.5600e+02 8.0000e+00 2.0030e+03 6.5000e+01]\n",
      " [1.8150e+05 6.0000e+00 1.2620e+03 6.0000e+00 1.9760e+03 8.0000e+01]\n",
      " [2.2350e+05 7.0000e+00 9.2000e+02 6.0000e+00 2.0010e+03 6.8000e+01]\n",
      " ...\n",
      " [2.3317e+05 7.0000e+00 1.5020e+03 7.0000e+00 2.0090e+03 7.9000e+01]\n",
      " [2.4535e+05 8.0000e+00 1.6940e+03 7.0000e+00 2.0080e+03 6.4000e+01]\n",
      " [1.7300e+05 6.0000e+00 9.5900e+02 7.0000e+00 2.0000e+03 5.8000e+01]]\n"
     ]
    }
   ],
   "source": [
    "print(data_80)"
   ]
  },
  {
   "cell_type": "code",
   "execution_count": 17,
   "id": "0f503555-db9b-4f57-9ee3-3565f4f776df",
   "metadata": {
    "tags": []
   },
   "outputs": [
    {
     "name": "stdout",
     "output_type": "stream",
     "text": [
      "[1.80590277e+05 6.10102740e+00 1.15632363e+03 6.48544521e+00\n",
      " 1.97145120e+03 6.99651468e+01]\n"
     ]
    }
   ],
   "source": [
    "data_80_means = np.mean(data_80, axis=0)\n",
    "print(data_80_means)"
   ]
  },
  {
   "cell_type": "markdown",
   "id": "56f93959-85bb-4d19-b15e-8a04597d3e06",
   "metadata": {},
   "source": [
    "#### Función para calcular datos relevantes para la correlación\n",
    "Creo un vector/matriz con las siguientes columnas, [ Yi , Yi - Promedio(Yi), (Yi - Promedio(Yi))^2 ]\n",
    "\n",
    "![Formula correlación](https://blog.hubspot.es/hs-fs/hubfs/F%C3%B3rmula%20de%20la%20correlaci%C3%B3n.png?width=400&height=141&name=F%C3%B3rmula%20de%20la%20correlaci%C3%B3n.png)"
   ]
  },
  {
   "cell_type": "code",
   "execution_count": 82,
   "id": "d65c741c-b235-4374-bac1-7b853674b1b8",
   "metadata": {
    "tags": []
   },
   "outputs": [],
   "source": [
    "def calc_columns(mean, data_vector):\n",
    "    # Paso 1: Crear columna con la resta del valor (y) y la media de la columna (y)\n",
    "    vector_minus_mean = data_vector - mean\n",
    "    #print(saleprice_minus_mean)\n",
    "    #print('----------')\n",
    "    \n",
    "    # Step 2: Hacer stack horizontal de la nueva columna\n",
    "    result = np.hstack((data_vector, vector_minus_mean))\n",
    "    #print(result)\n",
    "    #print('----------')\n",
    "    \n",
    "    # Step 3: Elevar al cuadrado la resta del valor (y) y la media de la columna (y)\n",
    "    vector_minus_mean_square = vector_minus_mean ** 2\n",
    "    #print(saleprice_minus_mean_square)\n",
    "    #print('----------')\n",
    "    \n",
    "    # Step 4: Hacer stack horizontal de la nueva columna de cuadrados\n",
    "    result2 = np.hstack((result, vector_minus_mean_square))\n",
    "    print(result2)\n",
    "    \n",
    "    return result2"
   ]
  },
  {
   "cell_type": "code",
   "execution_count": 124,
   "id": "e71f6f3e-2429-4025-954e-fb6ff25d6e54",
   "metadata": {
    "tags": []
   },
   "outputs": [],
   "source": [
    "def calc_correlation_custom(data_matrix_x, data_matrix_y):\n",
    "    sum_product_xminusmean_yminusmean = np.sum(data_matrix_x[:,[1]] * data_matrix_y[:,[1]])\n",
    "    #print(sum_product_xminusmean_yminusmean)\n",
    "    \n",
    "    sum_xminusmean_square = np.sum(data_matrix_x[:,[2]])\n",
    "    #print(sum_xminusmean_square)\n",
    "    \n",
    "    sum_yminusmean_square= np.sum(data_matrix_y[:,[2]])\n",
    "    #print(sum_yminusmean_square)\n",
    "    \n",
    "    correlacion_coeficente = sum_product_xminusmean_yminusmean / np.sqrt((sum_xminusmean_square) * (sum_yminusmean_square))\n",
    "    return correlacion_coeficente"
   ]
  },
  {
   "cell_type": "code",
   "execution_count": 125,
   "id": "fc01da09-84ab-4db3-86c5-155636c19a7b",
   "metadata": {
    "tags": []
   },
   "outputs": [],
   "source": [
    "def calc_correlation_numpy(data_vector_x, data_vector_y):\n",
    "    data_vector_x_flattened = data_vector_x.flatten()\n",
    "    data_vector_y_flattened = data_vector_y.flatten()\n",
    "    \n",
    "    #print(data_vector_x_flattened)\n",
    "    #print(data_vector_y_flattened)\n",
    "    \n",
    "    r = np.corrcoef(data_vector_x_flattened, data_vector_y_flattened)\n",
    "    correlation_coeficente = r[0, 1]\n",
    "    return correlation_coeficente"
   ]
  },
  {
   "cell_type": "markdown",
   "id": "b11be131-0f46-4ebb-93e8-feda0f8b33e7",
   "metadata": {},
   "source": [
    "### SalePrice\n",
    "**Esta es la variable dependiente.** \n",
    "\n",
    "Entonces en este caso es  [ Xi , Xi - Promedio(Xi), (Xi - Promedio(Xi))^2 ]"
   ]
  },
  {
   "cell_type": "code",
   "execution_count": 117,
   "id": "fc9e4ca6-7db3-4bfa-aeec-7d5b8adc79a2",
   "metadata": {
    "tags": []
   },
   "outputs": [
    {
     "name": "stdout",
     "output_type": "stream",
     "text": [
      "[[ 2.08500000e+05  2.79097226e+04  7.78952616e+08]\n",
      " [ 1.81500000e+05  9.09722603e+02  8.27595214e+05]\n",
      " [ 2.23500000e+05  4.29097226e+04  1.84124429e+09]\n",
      " ...\n",
      " [ 2.33170000e+05  5.25797226e+04  2.76462723e+09]\n",
      " [ 2.45350000e+05  6.47597226e+04  4.19382167e+09]\n",
      " [ 1.73000000e+05 -7.59027740e+03  5.76123110e+07]]\n"
     ]
    }
   ],
   "source": [
    "saleprice_mean = data_80_means[0]\n",
    "#print(saleprice_mean)\n",
    "\n",
    "saleprice_vector = data_80[:,[0]]\n",
    "#print(saleprice_vector)\n",
    "\n",
    "saleprice_calculations = calc_columns(saleprice_mean, saleprice_vector)\n",
    "\n",
    "\n",
    "#print('\\n----- Promedio de Xi - Promedio(Xi) -----')\n",
    "#sum_x = np.sum(saleprice_calculations[:,[1]])\n",
    "#print(sum_x)\n",
    "\n",
    "#print('\\n----- Promedio de (Xi - Promedio(Xi))^2 -----')\n",
    "#sum_x_square = np.sum(saleprice_calculations[:,[2]])\n",
    "#print(sum_x_mean)\n"
   ]
  },
  {
   "cell_type": "markdown",
   "id": "fdecf708-6f05-4a4c-8360-5b53c8b36c40",
   "metadata": {
    "tags": []
   },
   "source": [
    "---\n",
    "\n",
    "**A partir de aquí, estas son las variables independientes**\n",
    "\n",
    "La matriz de cada variable independiente tiene la estructura: [ Yi , Yi - Promedio(Yi), (Yi - Promedio(Yi))^2 ]\n"
   ]
  },
  {
   "cell_type": "markdown",
   "id": "232700de-28b6-4122-9e1a-d710263a9e9e",
   "metadata": {
    "tags": []
   },
   "source": [
    "#### Función para imprimir coeficientes de correlación con respecto a SalePrice"
   ]
  },
  {
   "cell_type": "code",
   "execution_count": 129,
   "id": "706c84a5-e9d7-4747-8e7a-0ef26802bce0",
   "metadata": {
    "tags": []
   },
   "outputs": [],
   "source": [
    "def print_corr_coef_with_saleprice(name, calculations, vector ):\n",
    "    print('\\n-------------------------')\n",
    "    print('Correlacion entre SalePrice -', name)\n",
    "    print('-------------------------')\n",
    "\n",
    "    print('Usando mi funcion custom:', \n",
    "          calc_correlation_custom(saleprice_calculations, calculations))\n",
    "\n",
    "    print('Usando funcion de numpy: ', \n",
    "          calc_correlation_numpy(saleprice_vector, vector))"
   ]
  },
  {
   "cell_type": "markdown",
   "id": "49f92b63-33fa-4c98-b493-e03851a04527",
   "metadata": {},
   "source": [
    "### OverallQual"
   ]
  },
  {
   "cell_type": "code",
   "execution_count": 130,
   "id": "4064747e-6da2-43a2-b973-c3e09c28448e",
   "metadata": {
    "tags": []
   },
   "outputs": [
    {
     "name": "stdout",
     "output_type": "stream",
     "text": [
      "[[ 7.          0.8989726   0.80815174]\n",
      " [ 6.         -0.1010274   0.01020653]\n",
      " [ 7.          0.8989726   0.80815174]\n",
      " ...\n",
      " [ 7.          0.8989726   0.80815174]\n",
      " [ 8.          1.8989726   3.60609695]\n",
      " [ 6.         -0.1010274   0.01020653]]\n",
      "\n",
      "-------------------------\n",
      "Correlacion entre SalePrice - OverallQual\n",
      "-------------------------\n",
      "Usando mi funcion custom: 0.7939900504626409\n",
      "Usando funcion de numpy:  0.7939900504626405\n"
     ]
    }
   ],
   "source": [
    "overallqual_mean = data_80_means[1]\n",
    "#print(overallqual_mean)\n",
    "\n",
    "overallqual_vector = data_80[:,[1]]\n",
    "#print(overallqual_vector)\n",
    "\n",
    "overallqual_calculations = calc_columns(overallqual_mean, overallqual_vector)\n",
    "\n",
    "print_corr_coef_with_saleprice('OverallQual', overallqual_calculations, overallqual_vector)"
   ]
  },
  {
   "cell_type": "markdown",
   "id": "ada495ac-3972-4d51-8dc2-9d9dfa482e55",
   "metadata": {},
   "source": [
    "### 1stFlrSF"
   ]
  },
  {
   "cell_type": "code",
   "execution_count": 131,
   "id": "36eed496-f05e-4eba-bfd2-f1a9a8340009",
   "metadata": {
    "tags": []
   },
   "outputs": [
    {
     "name": "stdout",
     "output_type": "stream",
     "text": [
      "[[ 8.56000000e+02 -3.00323630e+02  9.01942828e+04]\n",
      " [ 1.26200000e+03  1.05676370e+02  1.11674951e+04]\n",
      " [ 9.20000000e+02 -2.36323630e+02  5.58488582e+04]\n",
      " ...\n",
      " [ 1.50200000e+03  3.45676370e+02  1.19492153e+05]\n",
      " [ 1.69400000e+03  5.37676370e+02  2.89095879e+05]\n",
      " [ 9.59000000e+02 -1.97323630e+02  3.89366150e+04]]\n",
      "\n",
      "-------------------------\n",
      "Correlacion entre SalePrice - 1stFlrSF\n",
      "-------------------------\n",
      "Usando mi funcion custom: 0.6162887000998716\n",
      "Usando funcion de numpy:  0.6162887000998717\n"
     ]
    }
   ],
   "source": [
    "firstflrsf_mean = data_80_means[2]\n",
    "#print(firstflrsf_mean)\n",
    "\n",
    "firstflrsf_vector = data_80[:,[2]]\n",
    "#print(firstflrsf_vector)\n",
    "\n",
    "firstflrsf_calculations = calc_columns(firstflrsf_mean, firstflrsf_vector)\n",
    "\n",
    "print_corr_coef_with_saleprice('1stFlrSF', firstflrsf_calculations, firstflrsf_vector)"
   ]
  },
  {
   "cell_type": "markdown",
   "id": "1a0c0d5e-4247-4940-887a-d8b398f13496",
   "metadata": {},
   "source": [
    "### TotRmsAbvGrd"
   ]
  },
  {
   "cell_type": "code",
   "execution_count": 133,
   "id": "a0a3c718-6cdb-4f96-9cdb-f8ff6b2271e5",
   "metadata": {
    "tags": []
   },
   "outputs": [
    {
     "name": "stdout",
     "output_type": "stream",
     "text": [
      "[[ 8.          1.51455479  2.29387623]\n",
      " [ 6.         -0.48544521  0.23565705]\n",
      " [ 6.         -0.48544521  0.23565705]\n",
      " ...\n",
      " [ 7.          0.51455479  0.26476664]\n",
      " [ 7.          0.51455479  0.26476664]\n",
      " [ 7.          0.51455479  0.26476664]]\n",
      "\n",
      "-------------------------\n",
      "Correlacion entre SalePrice - TotRmsAbvGrd\n",
      "-------------------------\n",
      "Usando mi funcion custom: 0.5647069399593065\n",
      "Usando funcion de numpy:  0.5647069399593065\n"
     ]
    }
   ],
   "source": [
    "totrmsabvgrd_mean = data_80_means[3]\n",
    "#print(totrmsabvgrd_mean)\n",
    "\n",
    "totrmsabvgrd_vector = data_80[:,[3]]\n",
    "#print(totrmsabvgrd_vector)\n",
    "\n",
    "totrmsabvgrd_calculations = calc_columns(totrmsabvgrd_mean, totrmsabvgrd_vector)\n",
    "\n",
    "print_corr_coef_with_saleprice('TotRmsAbvGrd', totrmsabvgrd_calculations, totrmsabvgrd_vector)"
   ]
  },
  {
   "cell_type": "markdown",
   "id": "874c3ac5-33f9-431f-96bf-1e1c36138639",
   "metadata": {},
   "source": [
    "### YearBuilt"
   ]
  },
  {
   "cell_type": "code",
   "execution_count": 134,
   "id": "21a0cd4a-3f35-483b-9e1e-5704471a3473",
   "metadata": {
    "tags": []
   },
   "outputs": [
    {
     "name": "stdout",
     "output_type": "stream",
     "text": [
      "[[2003.           31.54880137  995.32686788]\n",
      " [1976.            4.54880137   20.6915939 ]\n",
      " [2001.           29.54880137  873.1316624 ]\n",
      " ...\n",
      " [2009.           37.54880137 1409.91248431]\n",
      " [2008.           36.54880137 1335.81488157]\n",
      " [2000.           28.54880137  815.03405966]]\n",
      "\n",
      "-------------------------\n",
      "Correlacion entre SalePrice - YearBuilt\n",
      "-------------------------\n",
      "Usando mi funcion custom: 0.5341706927117515\n",
      "Usando funcion de numpy:  0.5341706927117515\n"
     ]
    }
   ],
   "source": [
    "yearbuilt_mean = data_80_means[4]\n",
    "#print(yearbuilt_mean)\n",
    "\n",
    "yearbuilt_vector = data_80[:,[4]]\n",
    "#print(yearbuilt_vector)\n",
    "\n",
    "yearbuilt_calculations = calc_columns(yearbuilt_mean, yearbuilt_vector)\n",
    "\n",
    "print_corr_coef_with_saleprice('YearBuilt', yearbuilt_calculations, yearbuilt_vector)"
   ]
  },
  {
   "cell_type": "markdown",
   "id": "4b21b9b3-e7e9-4ea3-935c-6c953e09ccbb",
   "metadata": {},
   "source": [
    "### LotFrontage"
   ]
  },
  {
   "cell_type": "code",
   "execution_count": 135,
   "id": "b14101e2-0e68-47e4-80cd-99a0d262fd18",
   "metadata": {
    "tags": []
   },
   "outputs": [
    {
     "name": "stdout",
     "output_type": "stream",
     "text": [
      "[[ 65.          -4.96514677  24.65268242]\n",
      " [ 80.          10.03485323 100.69827941]\n",
      " [ 68.          -1.96514677   3.86180182]\n",
      " ...\n",
      " [ 79.           9.03485323  81.62857294]\n",
      " [ 64.          -5.96514677  35.58297595]\n",
      " [ 58.         -11.96514677 143.16473715]]\n",
      "\n",
      "-------------------------\n",
      "Correlacion entre SalePrice - LotFrontage\n",
      "-------------------------\n",
      "Usando mi funcion custom: 0.3485384688906943\n",
      "Usando funcion de numpy:  0.3485384688906943\n"
     ]
    }
   ],
   "source": [
    "lotfrontage_mean = data_80_means[5]\n",
    "#print(lotfrontage_mean)\n",
    "\n",
    "lotfrontage_vector = data_80[:,[5]]\n",
    "#print(lotfrontage_vector)\n",
    "\n",
    "lotfrontage_calculations = calc_columns(lotfrontage_mean, lotfrontage_vector)\n",
    "\n",
    "print_corr_coef_with_saleprice('LotFrontage', lotfrontage_calculations, lotfrontage_vector)"
   ]
  },
  {
   "cell_type": "code",
   "execution_count": null,
   "id": "09c172da-c73c-4c62-beef-46ff7b4a0b3f",
   "metadata": {
    "tags": []
   },
   "outputs": [],
   "source": []
  },
  {
   "cell_type": "code",
   "execution_count": 26,
   "id": "06707dfb-07ac-4814-a3be-bbaaf85a3227",
   "metadata": {
    "tags": []
   },
   "outputs": [
    {
     "data": {
      "text/html": [
       "<div>\n",
       "<style scoped>\n",
       "    .dataframe tbody tr th:only-of-type {\n",
       "        vertical-align: middle;\n",
       "    }\n",
       "\n",
       "    .dataframe tbody tr th {\n",
       "        vertical-align: top;\n",
       "    }\n",
       "\n",
       "    .dataframe thead th {\n",
       "        text-align: right;\n",
       "    }\n",
       "</style>\n",
       "<table border=\"1\" class=\"dataframe\">\n",
       "  <thead>\n",
       "    <tr style=\"text-align: right;\">\n",
       "      <th></th>\n",
       "      <th>SalePrice</th>\n",
       "      <th>OverallQual</th>\n",
       "      <th>1stFlrSF</th>\n",
       "      <th>TotRmsAbvGrd</th>\n",
       "      <th>YearBuilt</th>\n",
       "      <th>LotFrontage</th>\n",
       "    </tr>\n",
       "  </thead>\n",
       "  <tbody>\n",
       "    <tr>\n",
       "      <th>count</th>\n",
       "      <td>1168.000000</td>\n",
       "      <td>1168.000000</td>\n",
       "      <td>1168.000000</td>\n",
       "      <td>1168.000000</td>\n",
       "      <td>1168.000000</td>\n",
       "      <td>1168.000000</td>\n",
       "    </tr>\n",
       "    <tr>\n",
       "      <th>mean</th>\n",
       "      <td>180590.277397</td>\n",
       "      <td>6.101027</td>\n",
       "      <td>1156.323630</td>\n",
       "      <td>6.485445</td>\n",
       "      <td>1971.451199</td>\n",
       "      <td>69.965147</td>\n",
       "    </tr>\n",
       "    <tr>\n",
       "      <th>std</th>\n",
       "      <td>78815.697902</td>\n",
       "      <td>1.378025</td>\n",
       "      <td>373.780374</td>\n",
       "      <td>1.609141</td>\n",
       "      <td>29.951707</td>\n",
       "      <td>21.305468</td>\n",
       "    </tr>\n",
       "    <tr>\n",
       "      <th>min</th>\n",
       "      <td>34900.000000</td>\n",
       "      <td>1.000000</td>\n",
       "      <td>334.000000</td>\n",
       "      <td>2.000000</td>\n",
       "      <td>1875.000000</td>\n",
       "      <td>21.000000</td>\n",
       "    </tr>\n",
       "    <tr>\n",
       "      <th>25%</th>\n",
       "      <td>129900.000000</td>\n",
       "      <td>5.000000</td>\n",
       "      <td>882.000000</td>\n",
       "      <td>5.000000</td>\n",
       "      <td>1954.000000</td>\n",
       "      <td>60.000000</td>\n",
       "    </tr>\n",
       "    <tr>\n",
       "      <th>50%</th>\n",
       "      <td>162950.000000</td>\n",
       "      <td>6.000000</td>\n",
       "      <td>1086.000000</td>\n",
       "      <td>6.000000</td>\n",
       "      <td>1973.000000</td>\n",
       "      <td>70.049958</td>\n",
       "    </tr>\n",
       "    <tr>\n",
       "      <th>75%</th>\n",
       "      <td>214000.000000</td>\n",
       "      <td>7.000000</td>\n",
       "      <td>1390.250000</td>\n",
       "      <td>7.000000</td>\n",
       "      <td>2000.000000</td>\n",
       "      <td>79.000000</td>\n",
       "    </tr>\n",
       "    <tr>\n",
       "      <th>max</th>\n",
       "      <td>755000.000000</td>\n",
       "      <td>10.000000</td>\n",
       "      <td>3228.000000</td>\n",
       "      <td>14.000000</td>\n",
       "      <td>2010.000000</td>\n",
       "      <td>313.000000</td>\n",
       "    </tr>\n",
       "  </tbody>\n",
       "</table>\n",
       "</div>"
      ],
      "text/plain": [
       "           SalePrice  OverallQual     1stFlrSF  TotRmsAbvGrd    YearBuilt  \\\n",
       "count    1168.000000  1168.000000  1168.000000   1168.000000  1168.000000   \n",
       "mean   180590.277397     6.101027  1156.323630      6.485445  1971.451199   \n",
       "std     78815.697902     1.378025   373.780374      1.609141    29.951707   \n",
       "min     34900.000000     1.000000   334.000000      2.000000  1875.000000   \n",
       "25%    129900.000000     5.000000   882.000000      5.000000  1954.000000   \n",
       "50%    162950.000000     6.000000  1086.000000      6.000000  1973.000000   \n",
       "75%    214000.000000     7.000000  1390.250000      7.000000  2000.000000   \n",
       "max    755000.000000    10.000000  3228.000000     14.000000  2010.000000   \n",
       "\n",
       "       LotFrontage  \n",
       "count  1168.000000  \n",
       "mean     69.965147  \n",
       "std      21.305468  \n",
       "min      21.000000  \n",
       "25%      60.000000  \n",
       "50%      70.049958  \n",
       "75%      79.000000  \n",
       "max     313.000000  "
      ]
     },
     "execution_count": 26,
     "metadata": {},
     "output_type": "execute_result"
    }
   ],
   "source": [
    "dataset_training.describe()"
   ]
  },
  {
   "cell_type": "code",
   "execution_count": null,
   "id": "d64f1287-9a8d-4e04-bbb6-6cd4bd617d6b",
   "metadata": {},
   "outputs": [],
   "source": []
  }
 ],
 "metadata": {
  "kernelspec": {
   "display_name": "Python 3 (ipykernel)",
   "language": "python",
   "name": "python3"
  },
  "language_info": {
   "codemirror_mode": {
    "name": "ipython",
    "version": 3
   },
   "file_extension": ".py",
   "mimetype": "text/x-python",
   "name": "python",
   "nbconvert_exporter": "python",
   "pygments_lexer": "ipython3",
   "version": "3.11.5"
  }
 },
 "nbformat": 4,
 "nbformat_minor": 5
}
